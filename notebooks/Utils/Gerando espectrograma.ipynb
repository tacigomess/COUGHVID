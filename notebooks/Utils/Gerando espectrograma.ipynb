{
 "cells": [
  {
   "cell_type": "code",
   "execution_count": 1,
   "id": "renewable-romania",
   "metadata": {},
   "outputs": [],
   "source": [
    "import numpy as np\n",
    "import pandas as pd"
   ]
  },
  {
   "cell_type": "code",
   "execution_count": 2,
   "id": "unable-country",
   "metadata": {},
   "outputs": [],
   "source": [
    "df = pd.read_csv('public_dataset/metadata_compiled.csv')"
   ]
  },
  {
   "cell_type": "code",
   "execution_count": 3,
   "id": "progressive-shopping",
   "metadata": {},
   "outputs": [],
   "source": [
    "import librosa"
   ]
  },
  {
   "cell_type": "code",
   "execution_count": 4,
   "id": "perfect-watts",
   "metadata": {},
   "outputs": [
    {
     "data": {
      "text/plain": [
       "array([['00039425-7f3a-42aa-ac13-834aaa2b6b92'],\n",
       "       ['0009eb28-d8be-4dc1-92bb-907e53bc5c7a'],\n",
       "       ['0012c608-33d0-4ef7-bde3-75a0b1a0024e'],\n",
       "       ...,\n",
       "       ['fff474bf-39a4-4a61-8348-6b992fb5e439'],\n",
       "       ['fffaa9f8-4db0-46c5-90fb-93b7b014b55d'],\n",
       "       ['fffce9f0-a5e8-4bee-b13b-c671aac4a61c']], dtype=object)"
      ]
     },
     "execution_count": 4,
     "metadata": {},
     "output_type": "execute_result"
    }
   ],
   "source": [
    "ids = df.loc[:, ['uuid']].values\n",
    "ids"
   ]
  },
  {
   "cell_type": "code",
   "execution_count": 5,
   "id": "manufactured-frank",
   "metadata": {},
   "outputs": [
    {
     "data": {
      "text/plain": [
       "array(['00039425-7f3a-42aa-ac13-834aaa2b6b92',\n",
       "       '0009eb28-d8be-4dc1-92bb-907e53bc5c7a',\n",
       "       '0012c608-33d0-4ef7-bde3-75a0b1a0024e', ...,\n",
       "       'fff474bf-39a4-4a61-8348-6b992fb5e439',\n",
       "       'fffaa9f8-4db0-46c5-90fb-93b7b014b55d',\n",
       "       'fffce9f0-a5e8-4bee-b13b-c671aac4a61c'], dtype=object)"
      ]
     },
     "execution_count": 5,
     "metadata": {},
     "output_type": "execute_result"
    }
   ],
   "source": [
    "ids = np.reshape(ids, (-1))\n",
    "ids"
   ]
  },
  {
   "cell_type": "code",
   "execution_count": null,
   "id": "distributed-spare",
   "metadata": {},
   "outputs": [
    {
     "name": "stderr",
     "output_type": "stream",
     "text": [
      " 94%|█████████▍| 1009/1072 [12:23<00:41,  1.51it/s]"
     ]
    }
   ],
   "source": [
    "from tqdm import tqdm\n",
    "import pylab\n",
    "from matplotlib import cm\n",
    "import librosa.display\n",
    "\n",
    "for audio in tqdm(ids[19000:]):\n",
    "    y, src = librosa.load('public_dataset/' + audio + '.wav')\n",
    "    mel_spect = librosa.feature.melspectrogram(y=y, sr=src, n_fft=2048, hop_length=1024)\n",
    "    mel_spect = librosa.power_to_db(mel_spect, ref=np.max)\n",
    "    pylab.figure(figsize=(3,3))\n",
    "    pylab.axis('off') \n",
    "    pylab.axes([0., 0., 1., 1.], frameon=False, xticks=[], yticks=[]) # Remove the white edge\n",
    "    librosa.display.specshow(mel_spect)\n",
    "    pylab.savefig('melspectograma/' + audio + '.jpg', bbox_inches=None, pad_inches=0)\n",
    "    pylab.close()"
   ]
  },
  {
   "cell_type": "code",
   "execution_count": null,
   "id": "floppy-machinery",
   "metadata": {},
   "outputs": [],
   "source": []
  }
 ],
 "metadata": {
  "kernelspec": {
   "display_name": "Python 3",
   "language": "python",
   "name": "python3"
  },
  "language_info": {
   "codemirror_mode": {
    "name": "ipython",
    "version": 3
   },
   "file_extension": ".py",
   "mimetype": "text/x-python",
   "name": "python",
   "nbconvert_exporter": "python",
   "pygments_lexer": "ipython3",
   "version": "3.8.5"
  }
 },
 "nbformat": 4,
 "nbformat_minor": 5
}
